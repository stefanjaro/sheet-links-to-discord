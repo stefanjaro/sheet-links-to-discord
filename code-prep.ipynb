{
 "cells": [
  {
   "cell_type": "markdown",
   "metadata": {},
   "source": [
    "### For google_sheet_operations.py"
   ]
  },
  {
   "cell_type": "code",
   "execution_count": null,
   "metadata": {},
   "outputs": [],
   "source": [
    "# essential resources\n",
    "# https://github.com/nithinmurali/pygsheets\n",
    "# https://pygsheets.readthedocs.io/en/staging/index.html"
   ]
  },
  {
   "cell_type": "code",
   "execution_count": null,
   "metadata": {},
   "outputs": [],
   "source": [
    "# import libraries\n",
    "import os\n",
    "import datetime\n",
    "from zoneinfo import ZoneInfo\n",
    "import json\n",
    "import pygsheets\n",
    "import pandas as pd\n",
    "from dotenv import load_dotenv"
   ]
  },
  {
   "cell_type": "code",
   "execution_count": null,
   "metadata": {},
   "outputs": [],
   "source": [
    "# load environment variables\n",
    "\n",
    "# load from dotenv file -- comment out in production\n",
    "load_dotenv()\n",
    "\n",
    "def create_google_sheets_api_key():\n",
    "    \"\"\"\n",
    "    Loads individual environment variables to form the google sheets API key\n",
    "    \"\"\"\n",
    "    # get google sheets api key components\n",
    "    gsak_type = os.getenv(\"gsak_type\")\n",
    "    gsak_project_id = os.getenv(\"gsak_project_id\")\n",
    "    gsak_private_key_id = os.getenv(\"gsak_private_key_id\")\n",
    "    gsak_private_key = os.getenv(\"gsak_private_key\")\n",
    "    gsak_client_email = os.getenv(\"gsak_client_email\")\n",
    "    gsak_client_id = os.getenv(\"gsak_client_id\")\n",
    "    gsak_auth_uri = os.getenv(\"gsak_auth_uri\")\n",
    "    gsak_token_uri = os.getenv(\"gsak_token_uri\")\n",
    "    gsak_auth_provider_x509_cert_url = os.getenv(\"gsak_auth_provider_x509_cert_url\")\n",
    "    gsak_client_x509_cert_url = os.getenv(\"gsak_client_x509_cert_url\")\n",
    "\n",
    "    # create google sheets service account key\n",
    "    GOOGLE_SHEETS_API_KEY = json.dumps({\n",
    "        \"type\": gsak_type,\n",
    "        \"project_id\": gsak_project_id,\n",
    "        \"private_key_id\": gsak_private_key_id,\n",
    "        \"private_key\": gsak_private_key,\n",
    "        \"client_email\": gsak_client_email,\n",
    "        \"client_id\": gsak_client_id,\n",
    "        \"auth_uri\": gsak_auth_uri,\n",
    "        \"token_uri\": gsak_token_uri,\n",
    "        \"auth_provider_x509_cert_url\": gsak_auth_provider_x509_cert_url,\n",
    "        \"client_x509_cert_url\": gsak_client_x509_cert_url\n",
    "    })\n",
    "\n",
    "    return GOOGLE_SHEETS_API_KEY\n",
    "\n",
    "# set environment variable\n",
    "os.environ[\"GOOGLE_SHEETS_API_KEY\"] = create_google_sheets_api_key()"
   ]
  },
  {
   "cell_type": "code",
   "execution_count": null,
   "metadata": {},
   "outputs": [],
   "source": [
    "def load_google_sheet(serv_acc_env_var, file_name, tab_name):\n",
    "    \"\"\"\n",
    "    Creates and authorizes a connection to the Google API\n",
    "    Must ensure the Google Sheets and Drive APIs have been enabled for the service account\n",
    "    Then loads a table within a Google Sheet and returns a pygsheets object\n",
    "    \"\"\"\n",
    "    # authorize a connection to the Google API\n",
    "    conn = pygsheets.authorize(service_account_env_var=serv_acc_env_var)\n",
    "\n",
    "    # open the google spreadsheet and the relevant tab within it\n",
    "    # before running this, it's important to share the sheet with the service account email\n",
    "    gsheet = conn.open(file_name).worksheet_by_title(tab_name)\n",
    "\n",
    "    return gsheet\n",
    "\n",
    "def write_to_google_sheet(gsheet, df):\n",
    "    \"\"\"\n",
    "    Completely overwrites a Google Sheet with a Pandas dataframe\n",
    "    \"\"\"\n",
    "    gsheet.set_dataframe(df, (1,1))\n",
    "    return None"
   ]
  },
  {
   "cell_type": "code",
   "execution_count": null,
   "metadata": {},
   "outputs": [],
   "source": [
    "def convert_to_pandas_df(gsheet):\n",
    "    \"\"\"\n",
    "    Converts our Google Sheet object of links into a Pandas dataframe\n",
    "    Sets the right data types\n",
    "    \"\"\"\n",
    "    # convert to pandas df\n",
    "    links_df = gsheet.get_as_df()\n",
    "\n",
    "    # adjusts all data types\n",
    "    links_df[\"id\"] = links_df[\"id\"].astype(int)\n",
    "    links_df[\"to_publish_date_lka\"] = pd.to_datetime(links_df[\"to_publish_date_lka\"])\n",
    "    links_df[\"to_publish_time_lka\"] = links_df[\"to_publish_time_lka\"].astype(int)\n",
    "    links_df[\"posted_indicator\"] = links_df[\"posted_indicator\"].astype(int)\n",
    "\n",
    "    return links_df"
   ]
  },
  {
   "cell_type": "code",
   "execution_count": null,
   "metadata": {},
   "outputs": [],
   "source": [
    "def get_link_to_post(links_df):\n",
    "    \"\"\"\n",
    "    Get the link that we need to post on Discord based on the date and time\n",
    "    it needs to be posted and make sure it hasn't already been posted\n",
    "    \"\"\"\n",
    "    # get the current date and time in colombo, sri lanka\n",
    "    current_datetime = datetime.datetime.now(tz=ZoneInfo(\"Asia/Colombo\"))\n",
    "\n",
    "    # split into date and hour\n",
    "    current_date = current_datetime.date()\n",
    "    current_hour = current_datetime.hour\n",
    "\n",
    "    # sort links_df by date and time\n",
    "    links_df = links_df.sort_values([\"to_publish_date_lka\", \"to_publish_time_lka\"], ascending=True)\n",
    "\n",
    "    # get the links that have been assigned for the current date\n",
    "    # and have a publish time before or during the current hour\n",
    "    # and haven't already been published yet\n",
    "    # if there's multiple return only the first record (edge case handling)\n",
    "    rel_link = links_df[\n",
    "        (links_df[\"to_publish_date_lka\"] == pd.to_datetime(current_date)) &\n",
    "        (links_df[\"to_publish_time_lka\"] <= current_hour) &\n",
    "        (links_df[\"posted_indicator\"] == 0)\n",
    "    ].head(1)\n",
    "            \n",
    "    if rel_link.empty == False:\n",
    "        return rel_link\n",
    "    else:\n",
    "        return None"
   ]
  },
  {
   "cell_type": "code",
   "execution_count": null,
   "metadata": {},
   "outputs": [],
   "source": [
    "def update_posted_indicator(gsheet, links_df, rel_link):\n",
    "    \"\"\"\n",
    "    After the link has been shared, update the posted_indicator\n",
    "    of the link on the Google Sheet\n",
    "    \"\"\"\n",
    "    # update the posted_indicator of the link we posted\n",
    "    links_df.loc[links_df[\"id\"] == rel_link[\"id\"].item(), \"posted_indicator\"] = 1\n",
    "\n",
    "    # write this to the google sheet\n",
    "    write_to_google_sheet(gsheet, links_df)"
   ]
  },
  {
   "cell_type": "code",
   "execution_count": null,
   "metadata": {},
   "outputs": [],
   "source": [
    "# load a google sheet\n",
    "gsheet = load_google_sheet(\"GOOGLE_SHEETS_API_KEY\", \"Resources to Share with SLDE Discord\", \"Original\")\n",
    "\n",
    "# turn it into a pandas dataframe and set the right datatypes\n",
    "links_df = convert_to_pandas_df(gsheet)\n",
    "\n",
    "# get the link that needs to be posted\n",
    "rel_link = get_link_to_post(links_df)\n",
    "\n",
    "# update the posted indicator after the above has been posted\n",
    "update_posted_indicator(gsheet, links_df, rel_link)"
   ]
  },
  {
   "cell_type": "markdown",
   "metadata": {},
   "source": [
    "### For bot.py"
   ]
  },
  {
   "cell_type": "code",
   "execution_count": 7,
   "metadata": {},
   "outputs": [],
   "source": [
    "# import libraries and objects\n",
    "import os\n",
    "import discord\n",
    "from dotenv import load_dotenv\n",
    "from google_sheet_operations import (\n",
    "    load_google_sheet, convert_to_pandas_df, \n",
    "    get_link_to_post, update_posted_indicator \n",
    ")"
   ]
  },
  {
   "cell_type": "code",
   "execution_count": 8,
   "metadata": {},
   "outputs": [],
   "source": [
    "# load environment variables\n",
    "\n",
    "# load from dotenv file -- comment out in production\n",
    "load_dotenv()\n",
    "\n",
    "# get discord token\n",
    "DISCORD_TOKEN = os.getenv(\"DISCORD_TOKEN\")"
   ]
  },
  {
   "cell_type": "code",
   "execution_count": null,
   "metadata": {},
   "outputs": [],
   "source": []
  }
 ],
 "metadata": {
  "interpreter": {
   "hash": "99829260f1d2c1674597a39cfeceb951dc7870c0bcbc3e400803f7aeb04ec5d5"
  },
  "kernelspec": {
   "display_name": "Python 3.10.4 ('environment': venv)",
   "language": "python",
   "name": "python3"
  },
  "language_info": {
   "codemirror_mode": {
    "name": "ipython",
    "version": 3
   },
   "file_extension": ".py",
   "mimetype": "text/x-python",
   "name": "python",
   "nbconvert_exporter": "python",
   "pygments_lexer": "ipython3",
   "version": "3.10.4"
  },
  "orig_nbformat": 4
 },
 "nbformat": 4,
 "nbformat_minor": 2
}
